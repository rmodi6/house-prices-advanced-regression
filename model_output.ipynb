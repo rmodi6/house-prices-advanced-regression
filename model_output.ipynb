{
 "cells": [
  {
   "cell_type": "code",
   "execution_count": 1,
   "metadata": {},
   "outputs": [],
   "source": [
    "# Imports\n",
    "import pandas as pd\n",
    "import numpy as np\n",
    "import matplotlib as mpl\n",
    "import matplotlib.pyplot as plt\n",
    "import seaborn as sns\n",
    "import datatable as dt"
   ]
  },
  {
   "cell_type": "code",
   "execution_count": 2,
   "metadata": {},
   "outputs": [],
   "source": [
    "test_df = dt.fread('dataset/test.csv').to_pandas()"
   ]
  },
  {
   "cell_type": "code",
   "execution_count": 27,
   "metadata": {},
   "outputs": [],
   "source": [
    "dataset = test_df.copy()"
   ]
  },
  {
   "cell_type": "code",
   "execution_count": 28,
   "metadata": {},
   "outputs": [],
   "source": [
    "# PRE-PROCESSING\n",
    "\n",
    "# Replace NaNs with NA for categorical columns\n",
    "na_cols = ['Alley', 'BsmtQual', 'BsmtCond', 'BsmtExposure', 'BsmtFinType1', 'BsmtFinType2', \n",
    "           'FireplaceQu', 'GarageCond', 'GarageFinish', 'GarageQual', 'GarageType', 'Fence', \n",
    "           'MiscFeature', 'PoolQC']\n",
    "for col in na_cols:\n",
    "    dataset[col] = dataset[col].fillna('None')\n",
    "    \n",
    "nan_cols = ['TotalBsmtSF', 'GarageArea']\n",
    "for col in nan_cols:\n",
    "    dataset[col] = dataset[col].fillna(0)\n",
    "\n",
    "# Replace NaNs with 0 for categorical columns that can be converted to ordinals\n",
    "qual_map = {'Ex': 5,'Gd': 4,'TA': 3,'Fa': 2,'Po': 1, 'NA': 0}\n",
    "qual_cols = ['BsmtQual', 'BsmtCond', 'FireplaceQu', 'HeatingQC', 'GarageQual', 'GarageCond', \n",
    "             'ExterQual', 'ExterCond', 'KitchenQual', 'PoolQC']\n",
    "for col in qual_cols:\n",
    "    dataset[col] = dataset[col].map(qual_map).fillna(0)"
   ]
  },
  {
   "cell_type": "code",
   "execution_count": 29,
   "metadata": {},
   "outputs": [],
   "source": [
    "numerical_cols = ['LotArea', 'OverallQual', 'OverallCond', 'YearRemodAdd', 'BsmtQual', 'BsmtCond', 'TotalBsmtSF', 'GrLivArea', \n",
    "                  'TotRmsAbvGrd', 'FullBath', 'Fireplaces', 'GarageArea', 'WoodDeckSF', 'OpenPorchSF', 'EnclosedPorch']\n",
    "\n",
    "dataset = dataset[numerical_cols]"
   ]
  },
  {
   "cell_type": "code",
   "execution_count": 30,
   "metadata": {},
   "outputs": [],
   "source": [
    "categorical_cols = ['MSSubClass', 'MSZoning', 'LotConfig', 'Neighborhood', 'BldgType', \n",
    "                    'Foundation', 'CentralAir', 'GarageType', 'GarageFinish']\n",
    "ohe = pd.get_dummies(test_df[categorical_cols])\n",
    "dataset = dataset.join(ohe)\n",
    "test_cols = dataset.columns.to_list()"
   ]
  },
  {
   "cell_type": "code",
   "execution_count": 31,
   "metadata": {},
   "outputs": [],
   "source": [
    "import joblib\n",
    "from sklearn.preprocessing import MinMaxScaler\n",
    "from sklearn import metrics\n",
    "\n",
    "scaler = joblib.load(\"models/scaler.pkl\")\n",
    "\n",
    "scaled_df = scaler.transform(dataset)\n",
    "scaled_df = pd.DataFrame(scaled_df, columns=test_cols)"
   ]
  },
  {
   "cell_type": "code",
   "execution_count": 65,
   "metadata": {},
   "outputs": [],
   "source": [
    "regressor = joblib.load(\"models/xgb.pkl\")\n",
    "y_pred = regressor.predict(scaled_df)"
   ]
  },
  {
   "cell_type": "code",
   "execution_count": 68,
   "metadata": {},
   "outputs": [],
   "source": [
    "y_test = dt.fread(\"dataset/submission_5.csv\").to_pandas()['SalePrice'].values"
   ]
  },
  {
   "cell_type": "code",
   "execution_count": 69,
   "metadata": {},
   "outputs": [
    {
     "name": "stdout",
     "output_type": "stream",
     "text": [
      "Root Mean Squared Error: 0.14614065236960047\n"
     ]
    }
   ],
   "source": [
    "print('Root Mean Squared Error:', np.sqrt(metrics.mean_squared_error(np.log(y_test), np.log(y_pred))))"
   ]
  },
  {
   "cell_type": "code",
   "execution_count": 70,
   "metadata": {},
   "outputs": [],
   "source": [
    "output = pd.DataFrame({'Id': test_df.Id, 'SalePrice': y_pred})\n",
    "output.to_csv('dataset/submission_7.csv', index=False)"
   ]
  },
  {
   "cell_type": "code",
   "execution_count": null,
   "metadata": {},
   "outputs": [],
   "source": []
  }
 ],
 "metadata": {
  "kernelspec": {
   "display_name": "Python 3",
   "language": "python",
   "name": "python3"
  },
  "language_info": {
   "codemirror_mode": {
    "name": "ipython",
    "version": 3
   },
   "file_extension": ".py",
   "mimetype": "text/x-python",
   "name": "python",
   "nbconvert_exporter": "python",
   "pygments_lexer": "ipython3",
   "version": "3.7.3"
  }
 },
 "nbformat": 4,
 "nbformat_minor": 4
}
